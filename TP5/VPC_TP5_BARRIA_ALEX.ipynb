{
 "cells": [
  {
   "cell_type": "code",
   "execution_count": 1,
   "id": "728a6688",
   "metadata": {},
   "outputs": [],
   "source": [
    "import cv2\n",
    "import numpy as np\n",
    "import matplotlib.pyplot as plt"
   ]
  },
  {
   "cell_type": "markdown",
   "id": "17553d48",
   "metadata": {},
   "source": [
    "Defino **ROI_selection**, función para poder seleccionar la región de interés (ROI) a partir de la imagen pasada como argumento"
   ]
  },
  {
   "cell_type": "code",
   "execution_count": 2,
   "id": "2c8794fd",
   "metadata": {},
   "outputs": [],
   "source": [
    "def ROI_selection(imgage_name):\n",
    "    im = cv2.imread(imgage_name)\n",
    "\n",
    "    # Select ROI\n",
    "    r = cv2.selectROI(im)\n",
    "\n",
    "    # Crop image\n",
    "    imCrop = im[int(r[1]):int(r[1]+r[3]), int(r[0]):int(r[0]+r[2])]\n",
    "\n",
    "    # Display cropped image\n",
    "    cv2.imshow(\"Image\", imCrop)\n",
    "    cv2.waitKey(0)\n",
    "    cv2.destroyAllWindows()\n",
    "    exit(1)\n",
    "    print('The coordinates for the selected ROI are: ' + str(r))\n",
    "    return r, imCrop"
   ]
  },
  {
   "cell_type": "code",
   "execution_count": 6,
   "id": "cda9f734",
   "metadata": {},
   "outputs": [
    {
     "name": "stdout",
     "output_type": "stream",
     "text": [
      "The coordinates for the selected ROI are: (314, 299, 161, 263)\n"
     ]
    }
   ],
   "source": [
    "ROI_coords, roi = ROI_selection(\"Sample_image3.jpg\")"
   ]
  },
  {
   "cell_type": "code",
   "execution_count": 7,
   "id": "c91e1e09",
   "metadata": {},
   "outputs": [],
   "source": [
    "# Puntero al video\n",
    "cap = cv2.VideoCapture(0)\n",
    "\n",
    "# Pasamos la ROI a HSV (los valores de H son más estables a cambios de intensidad)\n",
    "hsv_roi =  cv2.cvtColor(roi, cv2.COLOR_BGR2HSV)\n",
    "# Definimos una máscara para el histograma (Hue: 0..180, Saturation:60..255, Value:32..255)\n",
    "mask = cv2.inRange(hsv_roi, np.array((0., 60.,32.)), np.array((180.,255.,255.)))\n",
    "# Y calculamos el histograma sobre esa máscara (toma solo el Hue: tonalidad)\n",
    "roi_hist = cv2.calcHist([hsv_roi],[0],mask,[180],[0,180])\n",
    "# Normalizamos el histograma (entre 0 y 255 según indica el flag cv.NORM_MINMAX)\n",
    "cv2.normalize(roi_hist,roi_hist,0,255,cv2.NORM_MINMAX);"
   ]
  },
  {
   "cell_type": "code",
   "execution_count": 8,
   "id": "70665e0d",
   "metadata": {},
   "outputs": [
    {
     "ename": "KeyboardInterrupt",
     "evalue": "",
     "output_type": "error",
     "traceback": [
      "\u001b[1;31m---------------------------------------------------------------------------\u001b[0m",
      "\u001b[1;31mKeyboardInterrupt\u001b[0m                         Traceback (most recent call last)",
      "\u001b[1;32m<ipython-input-8-4f65016ec3a2>\u001b[0m in \u001b[0;36m<module>\u001b[1;34m\u001b[0m\n\u001b[0;32m     28\u001b[0m         \u001b[0mcv2\u001b[0m\u001b[1;33m.\u001b[0m\u001b[0mimshow\u001b[0m\u001b[1;33m(\u001b[0m\u001b[1;34m'Seguimiento'\u001b[0m\u001b[1;33m,\u001b[0m\u001b[0mimg2\u001b[0m\u001b[1;33m)\u001b[0m\u001b[1;33m\u001b[0m\u001b[1;33m\u001b[0m\u001b[0m\n\u001b[0;32m     29\u001b[0m \u001b[1;33m\u001b[0m\u001b[0m\n\u001b[1;32m---> 30\u001b[1;33m         \u001b[0mk\u001b[0m \u001b[1;33m=\u001b[0m \u001b[0mcv2\u001b[0m\u001b[1;33m.\u001b[0m\u001b[0mwaitKey\u001b[0m\u001b[1;33m(\u001b[0m\u001b[1;36m30\u001b[0m\u001b[1;33m)\u001b[0m \u001b[1;33m&\u001b[0m \u001b[1;36m0xff\u001b[0m\u001b[1;33m\u001b[0m\u001b[1;33m\u001b[0m\u001b[0m\n\u001b[0m\u001b[0;32m     31\u001b[0m         \u001b[1;32mif\u001b[0m \u001b[0mk\u001b[0m \u001b[1;33m==\u001b[0m \u001b[1;36m27\u001b[0m\u001b[1;33m:\u001b[0m\u001b[1;33m\u001b[0m\u001b[1;33m\u001b[0m\u001b[0m\n\u001b[0;32m     32\u001b[0m             \u001b[1;32mbreak\u001b[0m\u001b[1;33m\u001b[0m\u001b[1;33m\u001b[0m\u001b[0m\n",
      "\u001b[1;31mKeyboardInterrupt\u001b[0m: "
     ]
    }
   ],
   "source": [
    "term_crit = ( cv2.TERM_CRITERIA_EPS | cv2.TERM_CRITERIA_COUNT, 1, 10 )\n",
    "track_window = ROI_coords\n",
    "while(1):\n",
    "    ret, frame = cap.read()\n",
    "    frame = cv2.resize(frame, None, None, fx=5, fy=5)\n",
    "    if ret == True:\n",
    "        hsv = cv2.cvtColor(frame, cv2.COLOR_BGR2HSV)\n",
    "        dst = cv2.calcBackProject([hsv],[0],roi_hist,[0,180],1)\n",
    "        \n",
    "        # Aplicamos camshift al nuevo frame\n",
    "        #----------------------------------\n",
    "        ret, track_window = cv2.CamShift(dst, track_window, term_crit)\n",
    "        \n",
    "        # Dibujamos la ventana sobre la imagen\n",
    "        #=====================================\n",
    "        \n",
    "        # Con escalamiento y rotación de la ventana de seguimiento\n",
    "        #---------------------------------------------------------\n",
    "        pts = cv2.boxPoints(ret)                      # Encuentra los 4 vértices del rectángulo rotado\n",
    "        pts = np.int0(pts)                           # int0 (entero usado para indexado)\n",
    "        img2 = cv2.polylines(frame,[pts],True, 255,2) # Dibujo del rectángulo\n",
    "        \n",
    "        # Con escalamiento de ventana - Sin rotación\n",
    "        #-------------------------------------------\n",
    "#         x,y,w,h = track_window\n",
    "#         img2 = cv2.rectangle(frame, (x,y), (x+w,y+h), 255,2)\n",
    "        \n",
    "        cv2.imshow('Seguimiento',img2)\n",
    "        \n",
    "        k = cv2.waitKey(30) & 0xff\n",
    "        if k == 27:\n",
    "            break\n",
    "    else:\n",
    "        break\n",
    "cv2.destroyAllWindows()\n",
    "cap.release()"
   ]
  },
  {
   "cell_type": "code",
   "execution_count": 19,
   "id": "f2905e39",
   "metadata": {},
   "outputs": [],
   "source": [
    "cv2.destroyAllWindows()\n",
    "cap.release()"
   ]
  }
 ],
 "metadata": {
  "kernelspec": {
   "display_name": "Python 3",
   "language": "python",
   "name": "python3"
  },
  "language_info": {
   "codemirror_mode": {
    "name": "ipython",
    "version": 3
   },
   "file_extension": ".py",
   "mimetype": "text/x-python",
   "name": "python",
   "nbconvert_exporter": "python",
   "pygments_lexer": "ipython3",
   "version": "3.8.8"
  }
 },
 "nbformat": 4,
 "nbformat_minor": 5
}
