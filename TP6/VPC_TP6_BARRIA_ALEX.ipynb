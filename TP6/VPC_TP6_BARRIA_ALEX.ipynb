{
 "cells": [
  {
   "cell_type": "code",
   "execution_count": 1,
   "id": "ede6fac1",
   "metadata": {},
   "outputs": [],
   "source": [
    "import cv2 as cv\n",
    "import time"
   ]
  },
  {
   "cell_type": "code",
   "execution_count": 2,
   "id": "dbf0cffc",
   "metadata": {},
   "outputs": [],
   "source": [
    "face_cascade = cv.CascadeClassifier(cv.data.haarcascades + 'haarcascade_frontalface_default.xml')\n",
    "eye_cascade = cv.CascadeClassifier(cv.data.haarcascades + 'haarcascade_eye.xml')\n",
    "mouth_cascade = cv.CascadeClassifier(cv.data.haarcascades + 'haarcascade_smile.xml')"
   ]
  },
  {
   "cell_type": "code",
   "execution_count": 16,
   "id": "daa702a9",
   "metadata": {},
   "outputs": [
    {
     "ename": "error",
     "evalue": "OpenCV(4.5.3) C:\\Users\\runneradmin\\AppData\\Local\\Temp\\pip-req-build-q3d_8t8e\\opencv\\modules\\imgproc\\src\\resize.cpp:4051: error: (-215:Assertion failed) !ssize.empty() in function 'cv::resize'\n",
     "output_type": "error",
     "traceback": [
      "\u001b[1;31m---------------------------------------------------------------------------\u001b[0m",
      "\u001b[1;31merror\u001b[0m                                     Traceback (most recent call last)",
      "\u001b[1;32m<ipython-input-16-714da3aa02b2>\u001b[0m in \u001b[0;36m<module>\u001b[1;34m\u001b[0m\n\u001b[0;32m      6\u001b[0m \u001b[1;32mwhile\u001b[0m\u001b[1;33m(\u001b[0m\u001b[1;36m1\u001b[0m\u001b[1;33m)\u001b[0m\u001b[1;33m:\u001b[0m\u001b[1;33m\u001b[0m\u001b[1;33m\u001b[0m\u001b[0m\n\u001b[0;32m      7\u001b[0m     \u001b[0mret\u001b[0m\u001b[1;33m,\u001b[0m \u001b[0mframe\u001b[0m \u001b[1;33m=\u001b[0m \u001b[0mcap\u001b[0m\u001b[1;33m.\u001b[0m\u001b[0mread\u001b[0m\u001b[1;33m(\u001b[0m\u001b[1;33m)\u001b[0m\u001b[1;33m\u001b[0m\u001b[1;33m\u001b[0m\u001b[0m\n\u001b[1;32m----> 8\u001b[1;33m     \u001b[0mframe\u001b[0m \u001b[1;33m=\u001b[0m \u001b[0mcv\u001b[0m\u001b[1;33m.\u001b[0m\u001b[0mresize\u001b[0m\u001b[1;33m(\u001b[0m\u001b[0mframe\u001b[0m\u001b[1;33m,\u001b[0m \u001b[1;32mNone\u001b[0m\u001b[1;33m,\u001b[0m \u001b[1;32mNone\u001b[0m\u001b[1;33m,\u001b[0m \u001b[0mfx\u001b[0m\u001b[1;33m=\u001b[0m\u001b[1;36m5\u001b[0m\u001b[1;33m,\u001b[0m \u001b[0mfy\u001b[0m\u001b[1;33m=\u001b[0m\u001b[1;36m5\u001b[0m\u001b[1;33m)\u001b[0m\u001b[1;33m\u001b[0m\u001b[1;33m\u001b[0m\u001b[0m\n\u001b[0m\u001b[0;32m      9\u001b[0m     \u001b[1;32mif\u001b[0m \u001b[0mret\u001b[0m \u001b[1;33m==\u001b[0m \u001b[1;32mTrue\u001b[0m\u001b[1;33m:\u001b[0m\u001b[1;33m\u001b[0m\u001b[1;33m\u001b[0m\u001b[0m\n\u001b[0;32m     10\u001b[0m \u001b[1;31m#         hsv = cv2.cvtColor(frame, cv2.COLOR_BGR2HSV)\u001b[0m\u001b[1;33m\u001b[0m\u001b[1;33m\u001b[0m\u001b[1;33m\u001b[0m\u001b[0m\n",
      "\u001b[1;31merror\u001b[0m: OpenCV(4.5.3) C:\\Users\\runneradmin\\AppData\\Local\\Temp\\pip-req-build-q3d_8t8e\\opencv\\modules\\imgproc\\src\\resize.cpp:4051: error: (-215:Assertion failed) !ssize.empty() in function 'cv::resize'\n"
     ]
    }
   ],
   "source": [
    "# Puntero al video\n",
    "cap = cv.VideoCapture(0)\n",
    "\n",
    "term_crit = ( cv.TERM_CRITERIA_EPS | cv.TERM_CRITERIA_COUNT, 1, 10 )\n",
    "\n",
    "while(1):\n",
    "    ret, frame = cap.read()\n",
    "    frame = cv.resize(frame, None, None, fx=5, fy=5)\n",
    "    if ret == True:\n",
    "#         hsv = cv2.cvtColor(frame, cv2.COLOR_BGR2HSV)\n",
    "#         dst = cv2.calcBackProject([hsv],[0],roi_hist,[0,180],1)\n",
    "        \n",
    "#         # Aplicamos camshift al nuevo frame\n",
    "#         #----------------------------------\n",
    "#         ret, track_window = cv2.CamShift(dst, track_window, term_crit)\n",
    "        \n",
    "#         # Dibujamos la ventana sobre la imagen\n",
    "#         #=====================================\n",
    "        \n",
    "#         # Con escalamiento y rotación de la ventana de seguimiento\n",
    "#         #---------------------------------------------------------\n",
    "#         pts = cv2.boxPoints(ret)                      # Encuentra los 4 vértices del rectángulo rotado\n",
    "#         pts = np.int0(pts)                           # int0 (entero usado para indexado)\n",
    "#         img2 = cv2.polylines(frame,[pts],True, 255,2) # Dibujo del rectángulo\n",
    "        \n",
    "#         # Con escalamiento de ventana - Sin rotación\n",
    "#         #-------------------------------------------\n",
    "# #         x,y,w,h = track_window\n",
    "# #         img2 = cv2.rectangle(frame, (x,y), (x+w,y+h), 255,2)\n",
    "        \n",
    "#         cv2.imshow('Seguimiento',img2)\n",
    "        \n",
    "        \n",
    "        ##################\n",
    "        \n",
    "                # Pasamos la imagen a escala de grises\n",
    "        #-------------------------------------\n",
    "        grayImage = cv.cvtColor(frame, cv.COLOR_BGR2GRAY)\n",
    "        grayImage = cv.equalizeHist(grayImage)\n",
    "\n",
    "        # Llamamos al clasificador de Haar (AdaBoost)\n",
    "        #--------------------------------------------\n",
    "        #faces = face_cascade.detectMultiScale(grayImage, 1.012, 5)\n",
    "        faces = face_cascade.detectMultiScale(grayImage, 1.1, 5)#, minSize= (100,130),maxSize=(200,400))\n",
    "\n",
    "        # Recorro las caras encontradas\n",
    "        #------------------------------\n",
    "        for (x,y,w,h) in faces:\n",
    "            # Le dibujamos un rectángulo amarillo\n",
    "            cv.rectangle(frame,(x,y),(x+w,y+h),(255,255,0),2)\n",
    "            # Definimos las ROIs en la imagen gris y color\n",
    "            roi_gray = grayImage[y:y+h, x:x+w] \n",
    "            roi_color = frame[y:y+h, x:x+w] \n",
    "            # Para cada rostro hallado le buscamos los ojos\n",
    "            eyes = eye_cascade.detectMultiScale(roi_gray, 1.1, 5)\n",
    "            mouth = mouth_cascade.detectMultiScale(roi_gray, 1.1, 3)\n",
    "            # En los ojos hallados les dibujamos rectángulos\n",
    "            for (ex,ey,ew,eh), (mx,my,mw,mh) in zip(eyes, mouth):\n",
    "                if ey < y:\n",
    "                    cv.rectangle(roi_color,(ex,ey),(ex+ew,ey+eh),(0,255,0),2)\n",
    "                if ex < x:\n",
    "                    if (mx > ex) & (my > y):\n",
    "                        cv.rectangle(roi_color,(mx,my),(mx+mw,my+mh),(0,255,0),2)\n",
    "                if ex > x:\n",
    "                    if mx < ex & (my > y):\n",
    "                        cv.rectangle(roi_color,(mx,my),(mx+mw,my+mh),(0,255,0),2)\n",
    "#             # Para cada rostro hallado le buscamos la boca\n",
    "#             mouth = mouth_cascade.detectMultiScale(roi_gray)\n",
    "#             # En las bocas hallados les dibujamos rectángulos\n",
    "#             for (mx,my,mw,mh) in mouth:\n",
    "#                 cv.rectangle(roi_color,(mx,my),(mx+mw,my+mh),(0,255,0),2)\n",
    "\n",
    "        cv.imshow('Detección de caras con filtros de Haar en cascada',frame) \n",
    "        #cv.waitKey(0)\n",
    "        #cv.destroyAllWindows()\n",
    "        \n",
    "        \n",
    "        \n",
    "        k = cv.waitKey(30) & 0xff\n",
    "        if k == 27:\n",
    "            break\n",
    "    else:\n",
    "        break\n",
    "cv.destroyAllWindows()\n",
    "cap.release()\n",
    "\n",
    "\n"
   ]
  },
  {
   "cell_type": "code",
   "execution_count": 15,
   "id": "47693ebe",
   "metadata": {},
   "outputs": [],
   "source": [
    "cv.destroyAllWindows()\n",
    "cap.release()"
   ]
  }
 ],
 "metadata": {
  "kernelspec": {
   "display_name": "Python 3",
   "language": "python",
   "name": "python3"
  },
  "language_info": {
   "codemirror_mode": {
    "name": "ipython",
    "version": 3
   },
   "file_extension": ".py",
   "mimetype": "text/x-python",
   "name": "python",
   "nbconvert_exporter": "python",
   "pygments_lexer": "ipython3",
   "version": "3.8.8"
  }
 },
 "nbformat": 4,
 "nbformat_minor": 5
}
