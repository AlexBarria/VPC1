{
 "cells": [
  {
   "cell_type": "code",
   "execution_count": null,
   "id": "ede6fac1",
   "metadata": {},
   "outputs": [],
   "source": [
    "import cv2 as cv\n",
    "import time"
   ]
  },
  {
   "cell_type": "code",
   "execution_count": null,
   "id": "dbf0cffc",
   "metadata": {},
   "outputs": [],
   "source": [
    "face_cascade = cv.CascadeClassifier(cv.data.haarcascades + 'haarcascade_frontalface_default.xml')\n",
    "eye_cascade = cv.CascadeClassifier(cv.data.haarcascades + 'haarcascade_eye.xml')\n",
    "mouth_cascade = cv.CascadeClassifier(cv.data.haarcascades + 'haarcascade_smile.xml')"
   ]
  },
  {
   "cell_type": "code",
   "execution_count": null,
   "id": "daa702a9",
   "metadata": {},
   "outputs": [],
   "source": [
    "# Puntero al video\n",
    "cap = cv.VideoCapture(0)\n",
    "\n",
    "term_crit = ( cv.TERM_CRITERIA_EPS | cv.TERM_CRITERIA_COUNT, 1, 10 )\n",
    "\n",
    "while(1):\n",
    "    ret, frame = cap.read()\n",
    "    frame = cv.resize(frame, None, None, fx=5, fy=5)\n",
    "    if ret == True:\n",
    "        \n",
    "                # Pasamos la imagen a escala de grises\n",
    "        #-------------------------------------\n",
    "        grayImage = cv.cvtColor(frame, cv.COLOR_BGR2GRAY)\n",
    "        grayImage = cv.equalizeHist(grayImage)\n",
    "\n",
    "        # Llamamos al clasificador de Haar (AdaBoost)\n",
    "        #--------------------------------------------\n",
    "        #faces = face_cascade.detectMultiScale(grayImage, 1.012, 5)\n",
    "        faces = face_cascade.detectMultiScale(grayImage, 1.1, 5)#, minSize= (100,130),maxSize=(200,400))\n",
    "\n",
    "        # Recorro las caras encontradas\n",
    "        #------------------------------\n",
    "        for (x,y,w,h) in faces:\n",
    "            # Le dibujamos un rectángulo amarillo\n",
    "            cv.rectangle(frame,(x,y),(x+w,y+h),(255,255,0),2)\n",
    "            # Definimos las ROIs en la imagen gris y color\n",
    "            roi_gray = grayImage[y:y+h, x:x+w] \n",
    "            roi_color = frame[y:y+h, x:x+w] \n",
    "            # Para cada rostro hallado le buscamos los ojos\n",
    "            eyes = eye_cascade.detectMultiScale(roi_gray, 1.1, 5)\n",
    "            mouth = mouth_cascade.detectMultiScale(roi_gray, 1.1, 3)\n",
    "            # En los ojos hallados les dibujamos rectángulos\n",
    "            for (ex,ey,ew,eh), (mx,my,mw,mh) in zip(eyes, mouth):\n",
    "                if ey < y:\n",
    "                    cv.rectangle(roi_color,(ex,ey),(ex+ew,ey+eh),(0,255,0),2)\n",
    "                if ex < x:\n",
    "                    if (mx > ex) & (my > y):\n",
    "                        cv.rectangle(roi_color,(mx,my),(mx+mw,my+mh),(0,255,0),2)\n",
    "                if ex > x:\n",
    "                    if mx < ex & (my > y):\n",
    "                        cv.rectangle(roi_color,(mx,my),(mx+mw,my+mh),(0,255,0),2)\n",
    "#             # Para cada rostro hallado le buscamos la boca\n",
    "#             mouth = mouth_cascade.detectMultiScale(roi_gray)\n",
    "#             # En las bocas hallados les dibujamos rectángulos\n",
    "#             for (mx,my,mw,mh) in mouth:\n",
    "#                 cv.rectangle(roi_color,(mx,my),(mx+mw,my+mh),(0,255,0),2)\n",
    "\n",
    "        cv.imshow('Detección de caras con filtros de Haar en cascada',frame) \n",
    "        #cv.waitKey(0)\n",
    "        #cv.destroyAllWindows()\n",
    "        \n",
    "        \n",
    "        \n",
    "        k = cv.waitKey(30) & 0xff\n",
    "        if k == 27:\n",
    "            break\n",
    "    else:\n",
    "        break\n",
    "cv.destroyAllWindows()\n",
    "cap.release()\n",
    "\n",
    "\n"
   ]
  },
  {
   "cell_type": "code",
   "execution_count": null,
   "id": "47693ebe",
   "metadata": {},
   "outputs": [],
   "source": [
    "cv.destroyAllWindows()\n",
    "cap.release()"
   ]
  }
 ],
 "metadata": {
  "kernelspec": {
   "display_name": "Python 3",
   "language": "python",
   "name": "python3"
  },
  "language_info": {
   "codemirror_mode": {
    "name": "ipython",
    "version": 3
   },
   "file_extension": ".py",
   "mimetype": "text/x-python",
   "name": "python",
   "nbconvert_exporter": "python",
   "pygments_lexer": "ipython3",
   "version": "3.8.8"
  }
 },
 "nbformat": 4,
 "nbformat_minor": 5
}
